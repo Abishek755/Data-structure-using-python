{
 "cells": [
  {
   "cell_type": "code",
   "execution_count": 3,
   "metadata": {},
   "outputs": [
    {
     "name": "stdout",
     "output_type": "stream",
     "text": [
      "Smallest element: 1\n"
     ]
    }
   ],
   "source": [
    "#1.Find the smallest element among N inputted numbers\n",
    "def find_smallest(arr):\n",
    "    return min(arr)\n",
    "\n",
    "arr = list(map(int, input(\"Enter numbers: \").split()))\n",
    "print(\"Smallest element:\", find_smallest(arr))\n"
   ]
  },
  {
   "cell_type": "code",
   "execution_count": null,
   "metadata": {},
   "outputs": [
    {
     "name": "stdout",
     "output_type": "stream",
     "text": [
      "Reversed array: [5, 4, 3, 2, 1]\n"
     ]
    }
   ],
   "source": [
    "#2\n",
    "def reverse_array(arr):\n",
    "    left, right = 0, len(arr) - 1\n",
    "    while left < right:\n",
    "        arr[left], arr[right] = arr[right], arr[left]\n",
    "        left += 1\n",
    "        right -= 1\n",
    "\n",
    "arr = list(map(int, input(\"Enter numbers: \").split()))\n",
    "reverse_array(arr)\n",
    "print(\"Reversed array:\", arr)\n"
   ]
  },
  {
   "cell_type": "code",
   "execution_count": null,
   "metadata": {},
   "outputs": [],
   "source": [
    "#3\n",
    "import math\n",
    "\n",
    "def standard_deviation(arr):\n",
    "    mean = sum(arr) / len(arr)\n",
    "    variance = sum((x - mean) ** 2 for x in arr) / len(arr)\n",
    "    return math.sqrt(variance)\n",
    "\n",
    "arr = list(map(int, input(\"Enter numbers: \").split()))\n",
    "print(\"Standard Deviation:\", standard_deviation(arr))\n"
   ]
  },
  {
   "cell_type": "code",
   "execution_count": null,
   "metadata": {},
   "outputs": [],
   "source": [
    "#4\n",
    "def count_odds(arr):\n",
    "    return sum(1 for x in arr if x % 2 != 0)\n",
    "\n",
    "arr = list(map(int, input(\"Enter numbers: \").split()))\n",
    "print(\"Count of odd numbers:\", count_odds(arr))\n"
   ]
  },
  {
   "cell_type": "code",
   "execution_count": null,
   "metadata": {},
   "outputs": [],
   "source": [
    "#5\n",
    "def largest_odd(arr):\n",
    "    odds = [x for x in arr if x % 2 != 0]\n",
    "    return max(odds) if odds else \"No odd number found\"\n",
    "\n",
    "arr = list(map(int, input(\"Enter numbers: \").split()))\n",
    "print(\"Largest odd number:\", largest_odd(arr))\n"
   ]
  },
  {
   "cell_type": "code",
   "execution_count": null,
   "metadata": {},
   "outputs": [],
   "source": [
    "#6\n",
    "def is_prime(n):\n",
    "    if n < 2:\n",
    "        return False\n",
    "    for i in range(2, int(n**0.5) + 1):\n",
    "        if n % i == 0:\n",
    "            return False\n",
    "    return True\n",
    "\n",
    "def count_primes(arr):\n",
    "    return sum(1 for x in arr if is_prime(x))\n",
    "\n",
    "arr = list(map(int, input(\"Enter numbers: \").split()))\n",
    "print(\"Total prime numbers:\", count_primes(arr))\n"
   ]
  },
  {
   "cell_type": "code",
   "execution_count": null,
   "metadata": {},
   "outputs": [],
   "source": [
    "#7\n",
    "def second_highest(arr):\n",
    "    unique_arr = list(set(arr))\n",
    "    unique_arr.sort()\n",
    "    return unique_arr[-2] if len(unique_arr) > 1 else \"Not enough elements\"\n",
    "\n",
    "arr = list(map(int, input(\"Enter numbers: \").split()))\n",
    "print(\"Second highest element:\", second_highest(arr))\n"
   ]
  },
  {
   "cell_type": "code",
   "execution_count": null,
   "metadata": {},
   "outputs": [],
   "source": [
    "#8\n",
    "def largest_difference(arr):\n",
    "    return max(arr) - min(arr)\n",
    "\n",
    "arr = list(map(int, input(\"Enter numbers: \").split()))\n",
    "print(\"Largest difference:\", largest_difference(arr))\n"
   ]
  },
  {
   "cell_type": "code",
   "execution_count": null,
   "metadata": {},
   "outputs": [],
   "source": [
    "#9\n",
    "def decimal_to_binary(n):\n",
    "    return bin(n)[2:]\n",
    "\n",
    "n = int(input(\"Enter a decimal number: \"))\n",
    "print(\"Binary equivalent:\", decimal_to_binary(n))\n"
   ]
  },
  {
   "cell_type": "code",
   "execution_count": null,
   "metadata": {},
   "outputs": [],
   "source": [
    "#10\n",
    "def delete_kth(arr, k):\n",
    "    if 0 <= k < len(arr):\n",
    "        del arr[k]\n",
    "    return arr\n",
    "\n",
    "arr = list(map(int, input(\"Enter numbers: \").split()))\n",
    "k = int(input(\"Enter position to delete (0-based index): \"))\n",
    "print(\"Array after deletion:\", delete_kth(arr, k))\n"
   ]
  },
  {
   "cell_type": "code",
   "execution_count": null,
   "metadata": {},
   "outputs": [],
   "source": [
    "#11\n",
    "def insert_sorted(arr, num):\n",
    "    arr.append(num)\n",
    "    arr.sort()\n",
    "    return arr\n",
    "\n",
    "arr = list(map(int, input(\"Enter sorted numbers: \").split()))\n",
    "num = int(input(\"Enter number to insert: \"))\n",
    "print(\"Updated sorted array:\", insert_sorted(arr, num))\n"
   ]
  },
  {
   "cell_type": "code",
   "execution_count": null,
   "metadata": {},
   "outputs": [],
   "source": [
    "#12\n",
    "def find_union(set1, set2):\n",
    "    return sorted(set(set1) | set(set2))\n",
    "\n",
    "set1 = list(map(int, input(\"Enter first set: \").split()))\n",
    "set2 = list(map(int, input(\"Enter second set: \").split()))\n",
    "print(\"Union:\", find_union(set1, set2))\n"
   ]
  }
 ],
 "metadata": {
  "kernelspec": {
   "display_name": "Python 3",
   "language": "python",
   "name": "python3"
  },
  "language_info": {
   "codemirror_mode": {
    "name": "ipython",
    "version": 3
   },
   "file_extension": ".py",
   "mimetype": "text/x-python",
   "name": "python",
   "nbconvert_exporter": "python",
   "pygments_lexer": "ipython3",
   "version": "3.12.6"
  }
 },
 "nbformat": 4,
 "nbformat_minor": 2
}
