{
 "cells": [
  {
   "cell_type": "code",
   "execution_count": null,
   "metadata": {},
   "outputs": [
    {
     "name": "stdout",
     "output_type": "stream",
     "text": [
      "[0, 1, 0, 3, 12]\n",
      "Result: [1, 3, 12, 0, 0]\n"
     ]
    }
   ],
   "source": [
    "# 1. Move Zeroes to the End\n",
    "def move_zeroes(arr):\n",
    "    arr.sort(key=lambda x: x == 0)\n",
    "    return arr\n",
    "\n",
    "arr = [0, 1, 0, 3, 12]\n",
    "print(arr)\n",
    "print(\"Result:\", move_zeroes(arr))"
   ]
  },
  {
   "cell_type": "code",
   "execution_count": null,
   "metadata": {},
   "outputs": [
    {
     "name": "stdout",
     "output_type": "stream",
     "text": [
      "[1, 2, 3, 4, 5]\n",
      "Rotated array: [4, 5, 1, 2, 3]\n"
     ]
    }
   ],
   "source": [
    "#2. Array rotation\n",
    "def rotate_right(arr, k):\n",
    "    k = k % len(arr)\n",
    "    return arr[-k:] + arr[:-k]\n",
    "\n",
    "arr = [1, 2, 3, 4, 5]\n",
    "print(arr)\n",
    "print(\"Rotated array:\", rotate_right(arr, 2))\n"
   ]
  },
  {
   "cell_type": "code",
   "execution_count": null,
   "metadata": {},
   "outputs": [
    {
     "name": "stdout",
     "output_type": "stream",
     "text": [
      "[1, 2, 3, 4]\n",
      "Product array: [24, 12, 8, 6]\n"
     ]
    }
   ],
   "source": [
    "# 3. Product of All Elements Except Itself\n",
    "from math import prod\n",
    "\n",
    "def product_except_self(arr):\n",
    "    total_product = prod(arr)\n",
    "    return [total_product // x for x in arr]\n",
    "\n",
    "arr = [1, 2, 3, 4]\n",
    "print(arr)\n",
    "print(\"Product array:\", product_except_self(arr))\n"
   ]
  },
  {
   "cell_type": "code",
   "execution_count": null,
   "metadata": {},
   "outputs": [
    {
     "name": "stdout",
     "output_type": "stream",
     "text": [
      "[2, 7, 11, 15]\n",
      "Indices: [0, 1]\n"
     ]
    }
   ],
   "source": [
    "#4. Two Sum Problem\n",
    "def two_sum(arr, target):\n",
    "    seen = {}\n",
    "    for i, num in enumerate(arr):\n",
    "        diff = target - num\n",
    "        if diff in seen:\n",
    "            return [seen[diff], i]\n",
    "        seen[num] = i\n",
    "    return []\n",
    "\n",
    "arr = [2, 7, 11, 15]\n",
    "target = 9\n",
    "print(arr)\n",
    "print(\"Indices:\", two_sum(arr, target))\n"
   ]
  },
  {
   "cell_type": "code",
   "execution_count": null,
   "metadata": {},
   "outputs": [
    {
     "name": "stdout",
     "output_type": "stream",
     "text": [
      "[6, 2, 4, 0, 5, 1, 1, 4, 2, 9]\n",
      "Minimum jumps: 2\n"
     ]
    }
   ],
   "source": [
    "#\n",
    "def min_jumps(arr):\n",
    "    jumps = 0\n",
    "    farthest = 0\n",
    "    end = 0\n",
    "    for i in range(len(arr) - 1):\n",
    "        farthest = max(farthest, i + arr[i])\n",
    "        if i == end:\n",
    "            jumps += 1\n",
    "            end = farthest\n",
    "    return jumps\n",
    "\n",
    "arr = [6, 2, 4, 0, 5, 1, 1, 4, 2, 9]\n",
    "print(arr)\n",
    "print(\"Minimum jumps:\", min_jumps(arr))\n"
   ]
  },
  {
   "cell_type": "code",
   "execution_count": 8,
   "metadata": {},
   "outputs": [
    {
     "name": "stdout",
     "output_type": "stream",
     "text": [
      "[0, 0, 1, 1, 2, 2]\n",
      "Sorted array: [0, 0, 1, 1, 2, 2]\n"
     ]
    }
   ],
   "source": [
    "#6.Sort Colors (Dutch National Flag Problem)\n",
    "\n",
    "def sort_colors(arr):\n",
    "    low, mid, high = 0, 0, len(arr) - 1\n",
    "\n",
    "    while mid <= high:\n",
    "        if arr[mid] == 0:\n",
    "            arr[low], arr[mid] = arr[mid], arr[low]\n",
    "            low += 1\n",
    "            mid += 1\n",
    "        elif arr[mid] == 1:\n",
    "            mid += 1\n",
    "        else:\n",
    "            arr[mid], arr[high] = arr[high], arr[mid]\n",
    "            high -= 1\n",
    "\n",
    "arr = [2, 0, 2, 1, 1, 0]\n",
    "sort_colors(arr)\n",
    "print(arr)\n",
    "print(\"Sorted array:\", arr)\n"
   ]
  },
  {
   "cell_type": "code",
   "execution_count": null,
   "metadata": {},
   "outputs": [],
   "source": [
    "#7.Trapping Rain Water\n",
    "def trap_rain_water(height):\n",
    "    if not height:\n",
    "        return 0\n",
    "\n",
    "    left, right = 0, len(height) - 1\n",
    "    left_max, right_max = height[left], height[right]\n",
    "    water_trapped = 0\n",
    "\n",
    "    while left < right:\n",
    "        if left_max < right_max:\n",
    "            left += 1\n",
    "            left_max = max(left_max, height[left])\n",
    "            water_trapped += max(0, left_max - height[left])\n",
    "        else:\n",
    "            right -= 1\n",
    "            right_max = max(right_max, height[right])\n",
    "            water_trapped += max(0, right_max - height[right])\n",
    "\n",
    "    return water_trapped\n",
    "\n",
    "arr = [0, 1, 0, 2, 1, 0, 1, 3, 2, 1, 2, 1]\n",
    "print(arr)\n",
    "print(\"Total water trapped:\", trap_rain_water(arr))\n"
   ]
  }
 ],
 "metadata": {
  "kernelspec": {
   "display_name": "Python 3",
   "language": "python",
   "name": "python3"
  },
  "language_info": {
   "codemirror_mode": {
    "name": "ipython",
    "version": 3
   },
   "file_extension": ".py",
   "mimetype": "text/x-python",
   "name": "python",
   "nbconvert_exporter": "python",
   "pygments_lexer": "ipython3",
   "version": "3.12.6"
  }
 },
 "nbformat": 4,
 "nbformat_minor": 2
}
